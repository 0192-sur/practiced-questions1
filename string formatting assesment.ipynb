{
 "cells": [
  {
   "cell_type": "code",
   "execution_count": 1,
   "metadata": {},
   "outputs": [
    {
     "name": "stdout",
     "output_type": "stream",
     "text": [
      "I'm going to inject something here.\n"
     ]
    }
   ],
   "source": [
    "print(\"I'm going to inject %s here.\"%'something')"
   ]
  },
  {
   "cell_type": "code",
   "execution_count": 5,
   "metadata": {},
   "outputs": [
    {
     "name": "stdout",
     "output_type": "stream",
     "text": [
      "I'm going to inject some text here,and more text here.\n"
     ]
    }
   ],
   "source": [
    "print(\"I'm going to inject %s text here,and %s text here.\"%('some','more'))"
   ]
  },
  {
   "cell_type": "code",
   "execution_count": 6,
   "metadata": {},
   "outputs": [
    {
     "name": "stdout",
     "output_type": "stream",
     "text": [
      "I'm going to inject some text here,and more text here.\n"
     ]
    }
   ],
   "source": [
    "x,y='some','more'\n",
    "print(\"I'm going to inject %s text here,and %s text here.\"%(x,y))"
   ]
  },
  {
   "cell_type": "code",
   "execution_count": 14,
   "metadata": {},
   "outputs": [
    {
     "name": "stdout",
     "output_type": "stream",
     "text": [
      "He said his name was Fred.\n"
     ]
    }
   ],
   "source": [
    "print('He said his name was %s.'%'Fred')"
   ]
  },
  {
   "cell_type": "code",
   "execution_count": 15,
   "metadata": {},
   "outputs": [
    {
     "name": "stdout",
     "output_type": "stream",
     "text": [
      "He said his name was 'Fred'.\n"
     ]
    }
   ],
   "source": [
    "print('He said his name was %r.'%'Fred')"
   ]
  },
  {
   "cell_type": "code",
   "execution_count": 19,
   "metadata": {},
   "outputs": [
    {
     "name": "stdout",
     "output_type": "stream",
     "text": [
      "I once caught a fish this\t big.\n"
     ]
    }
   ],
   "source": [
    "print('I once caught a fish %s.' %'this\\t big')"
   ]
  },
  {
   "cell_type": "code",
   "execution_count": 20,
   "metadata": {},
   "outputs": [
    {
     "name": "stdout",
     "output_type": "stream",
     "text": [
      "I once caught a fish 'this\\t big'.\n"
     ]
    }
   ],
   "source": [
    "print('I once caught a fish %r.' %'this\\t big')"
   ]
  },
  {
   "cell_type": "code",
   "execution_count": 21,
   "metadata": {},
   "outputs": [
    {
     "name": "stdout",
     "output_type": "stream",
     "text": [
      "I wrote 3.75 programs today.\n"
     ]
    }
   ],
   "source": [
    "print('I wrote %s programs today.'%3.75)"
   ]
  },
  {
   "cell_type": "code",
   "execution_count": 22,
   "metadata": {},
   "outputs": [
    {
     "name": "stdout",
     "output_type": "stream",
     "text": [
      "I wrote 3 programs today.\n"
     ]
    }
   ],
   "source": [
    "print('I wrote %d programs today.'%3.75)"
   ]
  },
  {
   "cell_type": "code",
   "execution_count": 26,
   "metadata": {},
   "outputs": [
    {
     "name": "stdout",
     "output_type": "stream",
     "text": [
      "Floating point numbers:13.14.\n"
     ]
    }
   ],
   "source": [
    "print('Floating point numbers:%5.2f.'%(13.144))"
   ]
  },
  {
   "cell_type": "code",
   "execution_count": 27,
   "metadata": {},
   "outputs": [
    {
     "name": "stdout",
     "output_type": "stream",
     "text": [
      "Floating point numbers:13\n"
     ]
    }
   ],
   "source": [
    "print('Floating point numbers:%1.0f'%(13.144))"
   ]
  },
  {
   "cell_type": "code",
   "execution_count": 28,
   "metadata": {},
   "outputs": [
    {
     "name": "stdout",
     "output_type": "stream",
     "text": [
      "Floating point numbers:13.14400.\n"
     ]
    }
   ],
   "source": [
    "print('Floating point numbers:%1.5f.'%(13.144))"
   ]
  },
  {
   "cell_type": "code",
   "execution_count": 29,
   "metadata": {},
   "outputs": [
    {
     "name": "stdout",
     "output_type": "stream",
     "text": [
      "Floating point numbers:     13.14.\n"
     ]
    }
   ],
   "source": [
    "print('Floating point numbers:%10.2f.'%(13.144))"
   ]
  },
  {
   "cell_type": "code",
   "execution_count": 30,
   "metadata": {},
   "outputs": [
    {
     "name": "stdout",
     "output_type": "stream",
     "text": [
      "Floating point numbers:                    13.14.\n"
     ]
    }
   ],
   "source": [
    "print('Floating point numbers:%25.2f.'%(13.144))"
   ]
  },
  {
   "cell_type": "code",
   "execution_count": 31,
   "metadata": {},
   "outputs": [
    {
     "name": "stdout",
     "output_type": "stream",
     "text": [
      "First:hi,Second: 3.14,Third:'bye'.\n"
     ]
    }
   ],
   "source": [
    "print('First:%s,Second:%5.2f,Third:%r.'%('hi',3.1415,'bye'))"
   ]
  },
  {
   "cell_type": "code",
   "execution_count": 35,
   "metadata": {},
   "outputs": [
    {
     "name": "stdout",
     "output_type": "stream",
     "text": [
      "The quick brown fox\n"
     ]
    }
   ],
   "source": [
    "print('The {2} {1} {0}'.format('fox','brown','quick'))"
   ]
  },
  {
   "cell_type": "code",
   "execution_count": 37,
   "metadata": {},
   "outputs": [
    {
     "name": "stdout",
     "output_type": "stream",
     "text": [
      "First object:1,Second object:Two,Third object:12.3\n"
     ]
    }
   ],
   "source": [
    "print('First object:{a},Second object:{b},Third object:{c}'.format(a=1,b='Two',c=12.3))"
   ]
  },
  {
   "cell_type": "code",
   "execution_count": 38,
   "metadata": {},
   "outputs": [
    {
     "name": "stdout",
     "output_type": "stream",
     "text": [
      "A penny saved is a penny earned.\n"
     ]
    }
   ],
   "source": [
    "print('A %s saved is a %s earned.'%('penny','penny'))"
   ]
  },
  {
   "cell_type": "code",
   "execution_count": 40,
   "metadata": {},
   "outputs": [
    {
     "name": "stdout",
     "output_type": "stream",
     "text": [
      "A penny saved is a penny earned.\n"
     ]
    }
   ],
   "source": [
    "print('A {p} saved is a {p} earned.'.format(p='penny'))"
   ]
  },
  {
   "cell_type": "code",
   "execution_count": 43,
   "metadata": {},
   "outputs": [
    {
     "name": "stdout",
     "output_type": "stream",
     "text": [
      "Fruit   |Quantity \n"
     ]
    }
   ],
   "source": [
    "print('{0:8}|{1:9}'.format('Fruit','Quantity'))"
   ]
  },
  {
   "cell_type": "code",
   "execution_count": 44,
   "metadata": {},
   "outputs": [
    {
     "name": "stdout",
     "output_type": "stream",
     "text": [
      "Apple   |      3.1.\n"
     ]
    }
   ],
   "source": [
    "print('{0:8}|{1:9}.'.format('Apple',3.1))"
   ]
  },
  {
   "cell_type": "code",
   "execution_count": 46,
   "metadata": {},
   "outputs": [
    {
     "name": "stdout",
     "output_type": "stream",
     "text": [
      "Orange  |       10\n"
     ]
    }
   ],
   "source": [
    "print('{0:8}|{1:9}'.format('Orange',10))"
   ]
  },
  {
   "cell_type": "code",
   "execution_count": 48,
   "metadata": {},
   "outputs": [
    {
     "name": "stdout",
     "output_type": "stream",
     "text": [
      "left    | center |   right\n",
      "11      |   22   |      33\n"
     ]
    }
   ],
   "source": [
    "print('{0:<8}|{1:^8}|{2:>8}'.format('left','center','right'))\n",
    "print('{0:<8}|{1:^8}|{2:>8}'.format(11,22,33))"
   ]
  },
  {
   "cell_type": "code",
   "execution_count": 53,
   "metadata": {},
   "outputs": [
    {
     "name": "stdout",
     "output_type": "stream",
     "text": [
      "left====|-center-|...right\n",
      "11======|---22---|......33\n"
     ]
    }
   ],
   "source": [
    "print('{0:=<8}|{1:-^8}|{2:.>8}'.format('left','center','right'))\n",
    "print('{0:=<8}|{1:-^8}|{2:.>8}'.format(11,22,33))"
   ]
  },
  {
   "cell_type": "code",
   "execution_count": 54,
   "metadata": {},
   "outputs": [
    {
     "name": "stdout",
     "output_type": "stream",
     "text": [
      "This is my ten character,two decimal numbers:     13.58\n"
     ]
    }
   ],
   "source": [
    "print('This is my ten character,two decimal numbers:%10.2f'%13.579)"
   ]
  },
  {
   "cell_type": "code",
   "execution_count": 60,
   "metadata": {},
   "outputs": [
    {
     "name": "stdout",
     "output_type": "stream",
     "text": [
      "This is my ten character, two decimal numbers:(0:10.2f)\n"
     ]
    }
   ],
   "source": [
    "print('This is my ten character, two decimal numbers:(0:10.2f)'.format(13.579))"
   ]
  },
  {
   "cell_type": "code",
   "execution_count": 66,
   "metadata": {},
   "outputs": [
    {
     "name": "stdout",
     "output_type": "stream",
     "text": [
      "He said his name is Fred:\n"
     ]
    }
   ],
   "source": [
    "name='Fred'\n",
    "print(f\"He said his name is {name}:\")"
   ]
  },
  {
   "cell_type": "code",
   "execution_count": 68,
   "metadata": {},
   "outputs": [
    {
     "name": "stdout",
     "output_type": "stream",
     "text": [
      "He said his name is 'Fred'\n"
     ]
    }
   ],
   "source": [
    "print(f\"He said his name is {name!r}\")"
   ]
  },
  {
   "cell_type": "code",
   "execution_count": 69,
   "metadata": {},
   "outputs": [
    {
     "name": "stdout",
     "output_type": "stream",
     "text": [
      "My 10 character,four decimal number is:   23.4568.\n"
     ]
    }
   ],
   "source": [
    "num=23.45678\n",
    "print(\"My 10 character,four decimal number is:{0:10.4f}.\".format(num))"
   ]
  },
  {
   "cell_type": "code",
   "execution_count": 83,
   "metadata": {},
   "outputs": [
    {
     "name": "stdout",
     "output_type": "stream",
     "text": [
      " My 10 character,four decimal number is:     23.45\n"
     ]
    }
   ],
   "source": [
    "print(f\" My 10 character,four decimal number is:{num:{10}.{6}}\")"
   ]
  },
  {
   "cell_type": "code",
   "execution_count": 71,
   "metadata": {},
   "outputs": [
    {
     "name": "stdout",
     "output_type": "stream",
     "text": [
      "My 10 character,four decimal number is:   23.4500\n"
     ]
    }
   ],
   "source": [
    "num=23.45\n",
    "print('My 10 character,four decimal number is:{0:10.4f}'.format(num))"
   ]
  },
  {
   "cell_type": "code",
   "execution_count": 82,
   "metadata": {},
   "outputs": [
    {
     "name": "stdout",
     "output_type": "stream",
     "text": [
      "My 10 character,four decimal number is:   23.4500\n"
     ]
    }
   ],
   "source": [
    "num=23.45\n",
    "print(f\"My 10 character,four decimal number is:{num:10.4f}\")"
   ]
  },
  {
   "cell_type": "code",
   "execution_count": null,
   "metadata": {},
   "outputs": [],
   "source": []
  }
 ],
 "metadata": {
  "kernelspec": {
   "display_name": "Python 3",
   "language": "python",
   "name": "python3"
  },
  "language_info": {
   "codemirror_mode": {
    "name": "ipython",
    "version": 3
   },
   "file_extension": ".py",
   "mimetype": "text/x-python",
   "name": "python",
   "nbconvert_exporter": "python",
   "pygments_lexer": "ipython3",
   "version": "3.7.4"
  }
 },
 "nbformat": 4,
 "nbformat_minor": 2
}
